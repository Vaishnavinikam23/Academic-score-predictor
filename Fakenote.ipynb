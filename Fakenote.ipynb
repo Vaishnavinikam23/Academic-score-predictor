{
  "nbformat": 4,
  "nbformat_minor": 0,
  "metadata": {
    "colab": {
      "provenance": [],
      "authorship_tag": "ABX9TyPWq9iYrvz9TjDjg2U9Xcq6",
      "include_colab_link": true
    },
    "kernelspec": {
      "name": "python3",
      "display_name": "Python 3"
    },
    "language_info": {
      "name": "python"
    }
  },
  "cells": [
    {
      "cell_type": "markdown",
      "metadata": {
        "id": "view-in-github",
        "colab_type": "text"
      },
      "source": [
        "<a href=\"https://colab.research.google.com/github/Vaishnavinikam23/Academic-score-predictor/blob/main/Fakenote.ipynb\" target=\"_parent\"><img src=\"https://colab.research.google.com/assets/colab-badge.svg\" alt=\"Open In Colab\"/></a>"
      ]
    },
    {
      "cell_type": "code",
      "source": [
        "import pandas as pd\n",
        "import numpy as np\n",
        "from sklearn.model_selection import train_test_split\n",
        "from sklearn.preprocessing import StandardScaler\n",
        "from sklearn.metrics import accuracy_score, classification_report\n",
        "import xgboost as xgb\n",
        "\n",
        "# Load dataset\n",
        "df = pd.read_csv(\"fake_currency_data_modified.csv\")\n",
        "\n",
        "# Drop unnecessary columns\n",
        "df.drop(columns=['SerialNumber'], inplace=True, errors='ignore')\n",
        "\n",
        "# Use only top features\n",
        "features = ['Weight', 'Length', 'Width', 'Thickness']\n",
        "df = df[features + ['Counterfeit']]\n",
        "\n",
        "# Split data\n",
        "X = df[features]\n",
        "y = df['Counterfeit']\n",
        "\n",
        "# Normalize features\n",
        "scaler = StandardScaler()\n",
        "X_scaled = scaler.fit_transform(X)\n",
        "\n",
        "# Train-test split\n",
        "X_train, X_test, y_train, y_test = train_test_split(X_scaled, y, stratify=y, test_size=0.2, random_state=42)\n",
        "\n",
        "# Train XGBoost model\n",
        "xgb_model = xgb.XGBClassifier(n_estimators=100, max_depth=6, learning_rate=0.1, use_label_encoder=False, eval_metric='logloss')\n",
        "xgb_model.fit(X_train, y_train)\n",
        "\n",
        "# Evaluate accuracy\n",
        "xgb_preds = xgb_model.predict(X_test)\n",
        "print(f\"\\nXGBoost Accuracy: {accuracy_score(y_test, xgb_preds):.4f}\")\n",
        "print(\"\\nClassification Report:\\n\", classification_report(y_test, xgb_preds))\n",
        "\n",
        "# --------------- Input New Note for Prediction ----------------\n",
        "\n",
        "# Example user input (update values as needed)\n",
        "# Take input from user via console\n",
        "input_data = {\n",
        "    'Weight': float(input(\"Enter weight (e.g., 1.20): \")),\n",
        "    'Length': float(input(\"Enter length (e.g., 150.0): \")),\n",
        "    'Width': float(input(\"Enter width (e.g., 70.0): \")),\n",
        "    'Thickness': float(input(\"Enter thickness (e.g., 0.08): \"))\n",
        "}\n",
        "\n",
        "\n",
        "# Convert to DataFrame\n",
        "input_df = pd.DataFrame([input_data])\n",
        "\n",
        "# Scale input using same scaler\n",
        "input_scaled = scaler.transform(input_df)\n",
        "\n",
        "# Predict\n",
        "prediction = xgb_model.predict(input_scaled)[0]\n",
        "\n",
        "# Output\n",
        "print(\"\\nPrediction for input note:\")\n",
        "print(\"→ Counterfeit\" if prediction == 1 else \"→ Real Currency\")\n"
      ],
      "metadata": {
        "colab": {
          "base_uri": "https://localhost:8080/"
        },
        "id": "sWpCbAn9CPyw",
        "outputId": "0f71a35a-a068-45c6-eeea-cea16c7d64a7"
      },
      "execution_count": 35,
      "outputs": [
        {
          "output_type": "stream",
          "name": "stdout",
          "text": [
            "\n",
            "XGBoost Accuracy: 0.8163\n",
            "\n",
            "Classification Report:\n",
            "               precision    recall  f1-score   support\n",
            "\n",
            "           0       0.73      0.99      0.84     21976\n",
            "           1       0.99      0.64      0.78     21948\n",
            "\n",
            "    accuracy                           0.82     43924\n",
            "   macro avg       0.86      0.82      0.81     43924\n",
            "weighted avg       0.86      0.82      0.81     43924\n",
            "\n",
            "Enter weight (e.g., 1.20): 1.5\n",
            "Enter length (e.g., 150.0): 200\n",
            "Enter width (e.g., 70.0): 89\n",
            "Enter thickness (e.g., 0.08): 0.05\n",
            "\n",
            "Prediction for input note:\n",
            "→ Counterfeit\n"
          ]
        }
      ]
    }
  ]
}